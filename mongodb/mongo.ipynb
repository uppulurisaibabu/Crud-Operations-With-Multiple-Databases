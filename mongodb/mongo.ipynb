{
 "cells": [
  {
   "cell_type": "code",
   "execution_count": 1,
   "metadata": {},
   "outputs": [],
   "source": [
    "from pymongo import MongoClient\n",
    "from pymongo.errors import DuplicateKeyError\n",
    "\n",
    "def get_mongo_client():\n",
    "    return MongoClient(\"mongodb://localhost:27017/\")\n",
    "\n",
    "def get_mongo_db():\n",
    "    client = get_mongo_client()\n",
    "    return client[\"mongo_crud\"]"
   ]
  },
  {
   "cell_type": "code",
   "execution_count": 15,
   "metadata": {},
   "outputs": [
    {
     "name": "stdout",
     "output_type": "stream",
     "text": [
      "Product with ID 006 added successfully.\n"
     ]
    }
   ],
   "source": [
    "# Ensure the 'product_id' field is unique by creating an index\n",
    "def create_unique_index():\n",
    "    db = get_mongo_db()\n",
    "    db.products.create_index(\"product_id\", unique=True)\n",
    "\n",
    "# Add a new product with a unique product_id\n",
    "def add_product(product_id, name, description, price):\n",
    "    db = get_mongo_db()\n",
    "    try:\n",
    "        db.products.insert_one({\"product_id\": product_id, \"name\": name, \"description\": description, \"price\": price})\n",
    "        print(f\"Product with ID {product_id} added successfully.\")\n",
    "    except DuplicateKeyError:\n",
    "        print(f\"Error: Product with ID {product_id} already exists.\")\n",
    "\n",
    "# Call this function once to create the unique index\n",
    "create_unique_index()\n",
    "# Retrieve product details by product_id\n",
    "def get_product(product_id):\n",
    "    db = get_mongo_db()\n",
    "    return db.products.find_one({\"product_id\": product_id})\n",
    "\n",
    "# Update product description\n",
    "def update_product_description(product_id, new_description):\n",
    "    db = get_mongo_db()  # Get the MongoDB connection\n",
    "    result = db.products.update_one(\n",
    "        {\"product_id\": product_id},\n",
    "        {\"$set\": {\"description\": new_description}}\n",
    "    )\n",
    "    \n",
    "    if result.modified_count > 0:\n",
    "        return f\"Product {product_id} description updated to: '{new_description}'\"\n",
    "    else:\n",
    "        return f\"No product found with ID {product_id} or no changes made.\"\n",
    "\n",
    "# Remove a product by product_id\n",
    "def delete_product(product_id):\n",
    "    db = get_mongo_db()  # Get the MongoDB connection\n",
    "    result = db.products.delete_one({\"product_id\": product_id})\n",
    "    \n",
    "    if result.deleted_count > 0:\n",
    "        return f\"Product with ID {product_id} has been successfully deleted.\"\n",
    "    else:\n",
    "        return f\"No product found with ID {product_id}.\"\n",
    "\n",
    "\n",
    "\n",
    "\n",
    "# Add a product\n",
    "add_product(\"006\", \"Laptop\", \"A powerful gaming laptop\", 1500)"
   ]
  },
  {
   "cell_type": "code",
   "execution_count": 16,
   "metadata": {},
   "outputs": [
    {
     "name": "stdout",
     "output_type": "stream",
     "text": [
      "{'_id': ObjectId('66e19d0f338deace337ebb76'), 'product_id': '005', 'name': 'Laptop', 'description': 'A powerful gaming laptop with RGB lighting', 'price': 1500}\n"
     ]
    }
   ],
   "source": [
    "# Retrieve the product details\n",
    "product = get_product(\"005\")\n",
    "print(product)\n"
   ]
  },
  {
   "cell_type": "code",
   "execution_count": 14,
   "metadata": {},
   "outputs": [
    {
     "name": "stdout",
     "output_type": "stream",
     "text": [
      "Product 005 description updated to: 'A powerful gaming laptop with RGB lighting'\n"
     ]
    }
   ],
   "source": [
    "# Update the product description\n",
    "\n",
    "# Example usage\n",
    "output_message = update_product_description(\"005\", \"A powerful gaming laptop with RGB lighting\")\n",
    "print(output_message)\n"
   ]
  },
  {
   "cell_type": "code",
   "execution_count": 18,
   "metadata": {},
   "outputs": [
    {
     "name": "stdout",
     "output_type": "stream",
     "text": [
      "Product with ID 006 has been successfully deleted.\n"
     ]
    }
   ],
   "source": [
    "# Delete the product and print the result\n",
    "output_message = delete_product(\"006\")\n",
    "print(output_message)\n"
   ]
  }
 ],
 "metadata": {
  "kernelspec": {
   "display_name": ".venv",
   "language": "python",
   "name": "python3"
  },
  "language_info": {
   "codemirror_mode": {
    "name": "ipython",
    "version": 3
   },
   "file_extension": ".py",
   "mimetype": "text/x-python",
   "name": "python",
   "nbconvert_exporter": "python",
   "pygments_lexer": "ipython3",
   "version": "3.12.3"
  }
 },
 "nbformat": 4,
 "nbformat_minor": 2
}
