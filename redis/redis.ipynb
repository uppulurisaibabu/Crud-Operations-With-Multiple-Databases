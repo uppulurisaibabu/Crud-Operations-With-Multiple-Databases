{
 "cells": [
  {
   "cell_type": "code",
   "execution_count": 1,
   "metadata": {},
   "outputs": [],
   "source": [
    "import redis\n",
    "from dotenv import load_dotenv\n",
    "import os\n",
    "\n",
    "# Load environment variables from .env file\n",
    "load_dotenv()\n",
    "\n",
    "# Connect to Redis\n",
    "def create_connection():\n",
    "    return redis.Redis(\n",
    "        host=os.getenv('REDIS_HOST'),\n",
    "        port=os.getenv('REDIS_PORT'),\n",
    "        password=os.getenv('REDIS_PASSWORD')\n",
    "    )\n",
    "# Establish the connection\n",
    "redis_conn = create_connection()\n",
    "\n"
   ]
  },
  {
   "cell_type": "code",
   "execution_count": 3,
   "metadata": {},
   "outputs": [
    {
     "name": "stdout",
     "output_type": "stream",
     "text": [
      "Session data retrieved: user_data1\n"
     ]
    }
   ],
   "source": [
    "# Retrieve user data by session ID\n",
    "def get_session(redis_conn, session_id):\n",
    "    return redis_conn.get(session_id)\n",
    "\n",
    "# Retrieve the session data\n",
    "session = get_session(redis_conn, \"session1\")\n",
    "print(\"Session data retrieved:\", session.decode('utf-8') if session else None)"
   ]
  },
  {
   "cell_type": "code",
   "execution_count": 4,
   "metadata": {},
   "outputs": [
    {
     "name": "stdout",
     "output_type": "stream",
     "text": [
      "Session ID 'session1' already exists. Skipping creation.\n",
      "Session ID 'session1' already exists. Skipping creation.\n",
      "Session ID 'session3' already exists. Skipping creation.\n",
      "Session ID 'session5' already exists. Skipping creation.\n",
      "Session 1 data: user_data1\n",
      "Session 2 data: user_data2\n"
     ]
    }
   ],
   "source": [
    "# Create a session with a unique session ID and user data, ensuring no duplicates\n",
    "def create_session(redis_conn, session_id, user_data):\n",
    "    if redis_conn.exists(session_id):\n",
    "        print(f\"Session ID '{session_id}' already exists. Skipping creation.\")\n",
    "    else:\n",
    "        redis_conn.set(session_id, user_data)\n",
    "        print(f\"Session ID '{session_id}' created successfully.\")\n",
    "\n",
    "# Create a session (first one)\n",
    "create_session(redis_conn, \"session1\", \"user_data1\")\n",
    "\n",
    "# Attempt to create a duplicate session (should be skipped)\n",
    "create_session(redis_conn, \"session1\", \"user_data1_duplicate\")\n",
    "\n",
    "# Create another session (different session ID)\n",
    "create_session(redis_conn, \"session3\", \"user_data2\")\n",
    "\n",
    "create_session(redis_conn, \"session5\", \"user_data2\")\n",
    "\n",
    "# Retrieve both sessions to verify\n",
    "session1 = get_session(redis_conn, \"session1\")\n",
    "session2 = get_session(redis_conn, \"session2\")\n",
    "\n",
    "print(\"Session 1 data:\", session1.decode('utf-8') if session1 else None)\n",
    "print(\"Session 2 data:\", session2.decode('utf-8') if session2 else None)\n"
   ]
  },
  {
   "cell_type": "code",
   "execution_count": 11,
   "metadata": {},
   "outputs": [
    {
     "name": "stdout",
     "output_type": "stream",
     "text": [
      "Session data retrieved: user_data1\n"
     ]
    }
   ],
   "source": [
    "# Retrieve user data by session ID\n",
    "def get_session(redis_conn, session_id):\n",
    "    return redis_conn.get(session_id)\n",
    "\n",
    "# Retrieve the session data\n",
    "session = get_session(redis_conn, \"session1\")\n",
    "print(\"Session data retrieved:\", session.decode('utf-8') if session else None)\n"
   ]
  },
  {
   "cell_type": "code",
   "execution_count": 13,
   "metadata": {},
   "outputs": [
    {
     "name": "stdout",
     "output_type": "stream",
     "text": [
      "Session data after update: new_user_databases\n"
     ]
    }
   ],
   "source": [
    "# Update session data\n",
    "def update_session(redis_conn, session_id, new_user_data):\n",
    "    redis_conn.set(session_id, new_user_data)\n",
    "\n",
    "# Update the session data\n",
    "update_session(redis_conn, \"session3\", \"new_user_databases\")\n",
    "\n",
    "# Retrieve the updated session data to verify\n",
    "session = get_session(redis_conn, \"session3\")\n",
    "print(\"Session data after update:\", session.decode('utf-8') if session else None)\n"
   ]
  },
  {
   "cell_type": "code",
   "execution_count": 14,
   "metadata": {},
   "outputs": [
    {
     "name": "stdout",
     "output_type": "stream",
     "text": [
      "Session data after deletion: None\n"
     ]
    }
   ],
   "source": [
    "# Delete a session by session ID\n",
    "def delete_session(redis_conn, session_id):\n",
    "    redis_conn.delete(session_id)\n",
    "\n",
    "# Delete the session\n",
    "delete_session(redis_conn, \"session1\")\n",
    "\n",
    "# Try to retrieve the session data after deletion to verify\n",
    "session = get_session(redis_conn, \"session1\")\n",
    "print(\"Session data after deletion:\", session.decode('utf-8') if session else None)\n"
   ]
  }
 ],
 "metadata": {
  "kernelspec": {
   "display_name": ".venv",
   "language": "python",
   "name": "python3"
  },
  "language_info": {
   "codemirror_mode": {
    "name": "ipython",
    "version": 3
   },
   "file_extension": ".py",
   "mimetype": "text/x-python",
   "name": "python",
   "nbconvert_exporter": "python",
   "pygments_lexer": "ipython3",
   "version": "3.12.3"
  }
 },
 "nbformat": 4,
 "nbformat_minor": 2
}
