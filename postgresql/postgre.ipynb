{
 "cells": [
  {
   "cell_type": "markdown",
   "metadata": {},
   "source": [
    "# Step 1: Update the Python code to use YugabyteDB\n",
    "Now that you have the credentials set up, here's how you can update your Python code for connecting to YugabyteDB (PostgreSQL-compatible):\n",
    "\n",
    "Database Connection Initialization"
   ]
  },
  {
   "cell_type": "code",
   "execution_count": 21,
   "metadata": {},
   "outputs": [],
   "source": [
    "from dotenv import load_dotenv\n",
    "import os\n",
    "import psycopg2\n",
    "\n",
    "# Load environment variables from .env file\n",
    "load_dotenv()\n",
    "# print(f\"Host: {os.getenv('POSTGRES_HOST')}\")\n",
    "# print(f\"Port: {os.getenv('POSTGRES_PORT')}\")\n",
    "# print(f\"Database: {os.getenv('POSTGRES_DB')}\")\n",
    "# print(f\"User: {os.getenv('POSTGRES_USER')}\")\n",
    "\n",
    "# Initialize PostgreSQL connection for YugabyteDB\n",
    "conn = psycopg2.connect(\n",
    "    dbname=os.getenv('POSTGRES_DB'),\n",
    "    user=os.getenv('POSTGRES_USER'),\n",
    "    password=os.getenv('POSTGRES_PASSWORD'),\n",
    "    host=os.getenv('POSTGRES_HOST'),\n",
    "    port=os.getenv('POSTGRES_PORT')\n",
    ")\n",
    "cursor = conn.cursor()\n",
    "\n",
    "\n"
   ]
  },
  {
   "cell_type": "markdown",
   "metadata": {},
   "source": [
    "# step2 : Cell for Creating a User (with duplicate email handling)"
   ]
  },
  {
   "cell_type": "code",
   "execution_count": 9,
   "metadata": {},
   "outputs": [],
   "source": [
    "import psycopg2\n",
    "from psycopg2 import errors\n",
    "\n",
    "# Create a new user with duplicate email handling\n",
    "def create_user(name, email):\n",
    "    try:\n",
    "        cursor.execute(\n",
    "            \"INSERT INTO users (name, email, created_at) VALUES (%s, %s, NOW()) RETURNING id;\",\n",
    "            (name, email)\n",
    "        )\n",
    "        conn.commit()\n",
    "        return cursor.fetchone()[0]\n",
    "    except errors.UniqueViolation:\n",
    "        print(f\"Error: A user with the email '{email}' already exists.\")\n",
    "        conn.rollback()  # Rollback the transaction if there's a violation\n",
    "        return None\n"
   ]
  },
  {
   "cell_type": "markdown",
   "metadata": {},
   "source": [
    "# step3:performing functions for Reading a User by ID,Updating a User's Email,Deleting a User by ID"
   ]
  },
  {
   "cell_type": "code",
   "execution_count": 18,
   "metadata": {},
   "outputs": [],
   "source": [
    "# Read user details by ID\n",
    "def get_user_by_id(user_id):\n",
    "    cursor.execute(\"SELECT * FROM users WHERE id = %s;\", (user_id,))\n",
    "    return cursor.fetchone()\n",
    "\n",
    "# Update user's email\n",
    "def update_user_email(user_id, new_email):\n",
    "    try:\n",
    "        cursor.execute(\"UPDATE users SET email = %s WHERE id = %s;\", (new_email, user_id))\n",
    "        conn.commit()\n",
    "        print(f\"Email updated successfully for user {user_id}\")\n",
    "    except psycopg2.Error as e:\n",
    "        conn.rollback()\n",
    "        print(f\"An error occurred: {e}\")\n",
    "\n",
    "# Delete a user by ID\n",
    "def delete_user(user_id):\n",
    "    cursor.execute(\"DELETE FROM users WHERE id = %s;\", (user_id,))\n",
    "    conn.commit()\n"
   ]
  },
  {
   "cell_type": "markdown",
   "metadata": {},
   "source": [
    "# Example Usage:\n",
    "1. Creating a user"
   ]
  },
  {
   "cell_type": "code",
   "execution_count": 11,
   "metadata": {},
   "outputs": [
    {
     "name": "stdout",
     "output_type": "stream",
     "text": [
      "Created User ID: 201\n"
     ]
    }
   ],
   "source": [
    "user_id = create_user(\"John Doe\", \"mohn.doe@example.com\")\n",
    "if user_id:\n",
    "    print(f\"Created User ID: {user_id}\")\n",
    "else:\n",
    "    print(\"User creation failed due to duplicate email.\")\n"
   ]
  },
  {
   "cell_type": "markdown",
   "metadata": {},
   "source": [
    "2.Reading user details:"
   ]
  },
  {
   "cell_type": "code",
   "execution_count": 12,
   "metadata": {},
   "outputs": [
    {
     "name": "stdout",
     "output_type": "stream",
     "text": [
      "User Details: (201, 'John Doe', 'mohn.doe@example.com', datetime.datetime(2024, 9, 13, 13, 10, 34, 46883))\n"
     ]
    }
   ],
   "source": [
    "user = get_user_by_id(user_id)\n",
    "print(f\"User Details: {user}\")"
   ]
  },
  {
   "cell_type": "markdown",
   "metadata": {},
   "source": [
    "3.Updating a user's email:\n"
   ]
  },
  {
   "cell_type": "code",
   "execution_count": 19,
   "metadata": {},
   "outputs": [
    {
     "name": "stdout",
     "output_type": "stream",
     "text": [
      "Email updated successfully for user 201\n",
      "Updated User Email: (201, 'John Doe', 'sai.new@example.com', datetime.datetime(2024, 9, 13, 13, 10, 34, 46883))\n"
     ]
    }
   ],
   "source": [
    "try:\n",
    "    # Ensure there are no pending transactions\n",
    "    conn.rollback()\n",
    "\n",
    "    # Update the email\n",
    "    update_user_email(user_id, \"sai.new@example.com\")\n",
    "\n",
    "    # Get and print the updated user details\n",
    "    updated_user = get_user_by_id(user_id)\n",
    "    print(f\"Updated User Email: {updated_user}\")\n",
    "\n",
    "except psycopg2.Error as e:\n",
    "    print(f\"An error occurred: {e}\")\n",
    "\n",
    "finally:\n",
    "    # Close the cursor and connection when you're done with all operations\n",
    "    cursor.close()\n",
    "    conn.close()"
   ]
  },
  {
   "cell_type": "markdown",
   "metadata": {},
   "source": [
    "4.Deleting a user:"
   ]
  },
  {
   "cell_type": "code",
   "execution_count": null,
   "metadata": {},
   "outputs": [],
   "source": [
    "delete_user(user_id)\n",
    "print(f\"User After Deletion: {get_user_by_id(user_id)}\")\n"
   ]
  }
 ],
 "metadata": {
  "kernelspec": {
   "display_name": ".venv",
   "language": "python",
   "name": "python3"
  },
  "language_info": {
   "codemirror_mode": {
    "name": "ipython",
    "version": 3
   },
   "file_extension": ".py",
   "mimetype": "text/x-python",
   "name": "python",
   "nbconvert_exporter": "python",
   "pygments_lexer": "ipython3",
   "version": "3.12.3"
  }
 },
 "nbformat": 4,
 "nbformat_minor": 2
}
