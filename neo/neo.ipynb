{
 "cells": [
  {
   "cell_type": "code",
   "execution_count": 16,
   "metadata": {},
   "outputs": [],
   "source": [
    "from neo4j import GraphDatabase\n",
    "from dotenv import load_dotenv\n",
    "import os\n",
    "\n",
    "# Load environment variables from .env file\n",
    "load_dotenv()\n",
    "\n",
    "# Get credentials from environment variables\n",
    "NEO4J_URI = os.getenv(\"NEO4J_URI\")\n",
    "NEO4J_USER = os.getenv(\"NEO4J_USER\")\n",
    "NEO4J_PASSWORD = os.getenv(\"NEO4J_PASSWORD\")\n",
    "\n",
    "# Connect to Neo4j\n",
    "def create_connection():\n",
    "    driver = GraphDatabase.driver(NEO4J_URI, auth=(NEO4J_USER, NEO4J_PASSWORD))\n",
    "    return driver\n",
    "\n",
    "# Initialize the driver\n",
    "driver = create_connection()"
   ]
  },
  {
   "cell_type": "code",
   "execution_count": 17,
   "metadata": {},
   "outputs": [
    {
     "name": "stdout",
     "output_type": "stream",
     "text": [
      "Employee 'Alice' added to the department 'Engineering'.\n",
      "Employee 'Sai' added to the department 'Accounts'.\n"
     ]
    }
   ],
   "source": [
    "# Create nodes for employees and departments, ensuring no duplicates for departments\n",
    "def create_employee(driver, name, department):\n",
    "    with driver.session() as session:\n",
    "        # Check if the employee already exists\n",
    "        result = session.run(\"MATCH (e:Employee {name: $name}) RETURN e\", name=name)\n",
    "        if result.single():\n",
    "            print(f\"Employee '{name}' already exists.\")\n",
    "        else:\n",
    "            # Merge ensures that the department node is created only if it doesn't already exist\n",
    "            session.run(\"\"\"\n",
    "                MERGE (d:Department {name: $department})\n",
    "                CREATE (e:Employee {name: $name})-[:WORKS_IN]->(d)\n",
    "                \"\"\", name=name, department=department)\n",
    "            print(f\"Employee '{name}' added to the department '{department}'.\")\n",
    "\n",
    "# Example usage for creating employees\n",
    "create_employee(driver, \"Alice\", \"Engineering\")\n",
    "create_employee(driver, \"Sai\", \"Accounts\")\n"
   ]
  },
  {
   "cell_type": "code",
   "execution_count": 18,
   "metadata": {},
   "outputs": [
    {
     "name": "stdout",
     "output_type": "stream",
     "text": [
      "Employees in Engineering: ['Alice']\n"
     ]
    }
   ],
   "source": [
    "# Retrieve all employees in a specific department\n",
    "def get_employees_in_department(driver, department):\n",
    "    with driver.session() as session:\n",
    "        result = session.run(\"\"\"\n",
    "            MATCH (e:Employee)-[:WORKS_IN]->(d:Department {name: $department})\n",
    "            RETURN e.name AS name\n",
    "            \"\"\", department=department)\n",
    "        employees = [record[\"name\"] for record in result]\n",
    "        return employees\n",
    "\n",
    "# Example usage for retrieving employees\n",
    "employees = get_employees_in_department(driver, \"Engineering\")\n",
    "print(\"Employees in Engineering:\", employees)\n"
   ]
  },
  {
   "cell_type": "code",
   "execution_count": 19,
   "metadata": {},
   "outputs": [
    {
     "name": "stdout",
     "output_type": "stream",
     "text": [
      "Employee 'Alice' has been moved to the 'Engineering' department.\n"
     ]
    }
   ],
   "source": [
    "# Update an employee's department\n",
    "def update_employee_department(driver, employee_name, new_department):\n",
    "    with driver.session() as session:\n",
    "        # Check if the employee exists before updating\n",
    "        result = session.run(\"MATCH (e:Employee {name: $name}) RETURN e\", name=employee_name)\n",
    "        if result.single():\n",
    "            session.run(\"\"\"\n",
    "                MATCH (e:Employee {name: $name})-[r:WORKS_IN]->(d:Department)\n",
    "                DELETE r\n",
    "                MERGE (d2:Department {name: $new_department})\n",
    "                CREATE (e)-[:WORKS_IN]->(d2)\n",
    "                \"\"\", name=employee_name, new_department=new_department)\n",
    "            print(f\"Employee '{employee_name}' has been moved to the '{new_department}' department.\")\n",
    "        else:\n",
    "            print(f\"Employee '{employee_name}' does not exist.\")\n",
    "\n",
    "# Example usage for updating an employee's department\n",
    "update_employee_department(driver, \"Alice\", \"Engineering\")\n"
   ]
  },
  {
   "cell_type": "code",
   "execution_count": 15,
   "metadata": {},
   "outputs": [
    {
     "name": "stdout",
     "output_type": "stream",
     "text": [
      "Employee 'Alice' has been deleted.\n"
     ]
    }
   ],
   "source": [
    "# Remove an employee from the graph\n",
    "def delete_employee(driver, employee_name):\n",
    "    with driver.session() as session:\n",
    "        # Check if the employee exists before deleting\n",
    "        result = session.run(\"MATCH (e:Employee {name: $name}) RETURN e\", name=employee_name)\n",
    "        if result.single():\n",
    "            session.run(\"MATCH (e:Employee {name: $name}) DETACH DELETE e\", name=employee_name)\n",
    "            print(f\"Employee '{employee_name}' has been deleted.\")\n",
    "        else:\n",
    "            print(f\"Employee '{employee_name}' does not exist.\")\n",
    "\n",
    "# Example usage for deleting an employee7\n",
    "delete_employee(driver, \"Alice\")\n"
   ]
  }
 ],
 "metadata": {
  "kernelspec": {
   "display_name": ".venv",
   "language": "python",
   "name": "python3"
  },
  "language_info": {
   "codemirror_mode": {
    "name": "ipython",
    "version": 3
   },
   "file_extension": ".py",
   "mimetype": "text/x-python",
   "name": "python",
   "nbconvert_exporter": "python",
   "pygments_lexer": "ipython3",
   "version": "3.12.3"
  }
 },
 "nbformat": 4,
 "nbformat_minor": 2
}
