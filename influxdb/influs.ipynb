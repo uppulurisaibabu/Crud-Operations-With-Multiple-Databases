{
 "cells": [
  {
   "cell_type": "code",
   "execution_count": 9,
   "metadata": {},
   "outputs": [],
   "source": [
    "from influxdb_client import InfluxDBClient, Point\n",
    "from influxdb_client.client.write_api import SYNCHRONOUS\n",
    "from datetime import datetime, timezone\n",
    "from dotenv import load_dotenv\n",
    "import os\n",
    "\n",
    "# Load environment variables from .env file\n",
    "load_dotenv()\n",
    "\n",
    "# Initialize InfluxDB client\n",
    "client = InfluxDBClient(\n",
    "    url=os.getenv('INFLUXDB_URL'),\n",
    "    token=os.getenv('INFLUXDB_TOKEN'),\n",
    "    org=os.getenv('INFLUXDB_ORG')\n",
    ")\n",
    "write_api = client.write_api(write_options=SYNCHRONOUS)\n",
    "query_api = client.query_api()\n",
    "\n",
    "# print(f\"URL: {os.getenv('INFLUXDB_URL')}\")\n",
    "# print(f\"Token: {os.getenv('INFLUXDB_TOKEN')}\")\n",
    "# print(f\"Org: {os.getenv('INFLUXDB_ORG')}\")\n",
    "# print(f\"Bucket: {os.getenv('INFLUXDB_BUCKET')}\")\n",
    "\n"
   ]
  },
  {
   "cell_type": "markdown",
   "metadata": {},
   "source": [
    "# Insert New Metric Data Points"
   ]
  },
  {
   "cell_type": "code",
   "execution_count": 6,
   "metadata": {},
   "outputs": [
    {
     "name": "stdout",
     "output_type": "stream",
     "text": [
      "Inserted point into measurement 'server_metrics' with fields: {'cpu': 0.85, 'memory': 64} and tags: {'host': 'server01'}\n",
      "Inserted point into measurement 'server_metrics' with fields: {'cpu': 0.75, 'memory': 70} and tags: {'host': 'server01'}\n"
     ]
    }
   ],
   "source": [
    "def insert_metric(measurement, tags, fields, time=None):\n",
    "    point = Point(measurement)\n",
    "    for tag_key, tag_value in tags.items():\n",
    "        point.tag(tag_key, tag_value)\n",
    "    for field_key, field_value in fields.items():\n",
    "        point.field(field_key, field_value)\n",
    "    # Use timezone-aware datetime in UTC\n",
    "    point.time(time if time else datetime.now(timezone.utc))\n",
    "    write_api.write(bucket=os.getenv('INFLUXDB_BUCKET'), org=os.getenv('INFLUXDB_ORG'), record=point)\n",
    "    # Print success message\n",
    "    print(f\"Inserted point into measurement '{measurement}' with fields: {fields} and tags: {tags}\")\n",
    "\n",
    "# Example Insertion\n",
    "insert_metric(\"server_metrics\", {\"host\": \"server01\"}, {\"cpu\": 0.85, \"memory\": 64})\n",
    "insert_metric(\"server_metrics\", {\"host\": \"server01\"}, {\"cpu\": 0.75, \"memory\": 70})\n"
   ]
  },
  {
   "cell_type": "markdown",
   "metadata": {},
   "source": [
    "# Retrieve Metrics Within a Specific Time Range"
   ]
  },
  {
   "cell_type": "code",
   "execution_count": 3,
   "metadata": {},
   "outputs": [
    {
     "name": "stdout",
     "output_type": "stream",
     "text": [
      "FluxRecord() table: 0, {'result': '_result', 'table': 0, '_start': datetime.datetime(2024, 9, 11, 7, 52, 59, 642920, tzinfo=datetime.timezone.utc), '_stop': datetime.datetime(2024, 9, 11, 8, 52, 59, 642920, tzinfo=datetime.timezone.utc), '_time': datetime.datetime(2024, 9, 11, 8, 52, 52, 999914, tzinfo=datetime.timezone.utc), '_value': 0.85, '_field': 'cpu', '_measurement': 'server_metrics', 'host': 'server01'}\n",
      "FluxRecord() table: 1, {'result': '_result', 'table': 1, '_start': datetime.datetime(2024, 9, 11, 7, 52, 59, 642920, tzinfo=datetime.timezone.utc), '_stop': datetime.datetime(2024, 9, 11, 8, 52, 59, 642920, tzinfo=datetime.timezone.utc), '_time': datetime.datetime(2024, 9, 11, 8, 52, 52, 999914, tzinfo=datetime.timezone.utc), '_value': 64, '_field': 'memory', '_measurement': 'server_metrics', 'host': 'server01'}\n"
     ]
    }
   ],
   "source": [
    "def retrieve_metrics(query):\n",
    "    return query_api.query(query=query, org=os.getenv('INFLUXDB_ORG'))\n",
    "\n",
    "# Example Query (Last 1 hour)\n",
    "result = retrieve_metrics('from(bucket:\"crud\") |> range(start: -1h)')\n",
    "for table in result:\n",
    "    for record in table.records:\n",
    "        print(record)\n"
   ]
  },
  {
   "cell_type": "markdown",
   "metadata": {},
   "source": [
    "# Update Existing Metric Data"
   ]
  },
  {
   "cell_type": "code",
   "execution_count": 7,
   "metadata": {},
   "outputs": [
    {
     "name": "stdout",
     "output_type": "stream",
     "text": [
      "Inserted point into measurement 'server_metrics' with fields: {'cpu': 0.75, 'memory': 70} and tags: {'host': 'server01'}\n"
     ]
    }
   ],
   "source": [
    "# InfluxDB is append-only, so you can't directly update but can add new points.\n",
    "# Add a new point with an updated value.\n",
    "insert_metric(\"server_metrics\", {\"host\": \"server01\"}, {\"cpu\": 0.75, \"memory\": 70})\n"
   ]
  }
 ],
 "metadata": {
  "kernelspec": {
   "display_name": ".venv",
   "language": "python",
   "name": "python3"
  },
  "language_info": {
   "codemirror_mode": {
    "name": "ipython",
    "version": 3
   },
   "file_extension": ".py",
   "mimetype": "text/x-python",
   "name": "python",
   "nbconvert_exporter": "python",
   "pygments_lexer": "ipython3",
   "version": "3.12.3"
  }
 },
 "nbformat": 4,
 "nbformat_minor": 2
}
